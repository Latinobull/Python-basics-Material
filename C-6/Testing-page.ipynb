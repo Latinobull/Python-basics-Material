{
 "cells": [
  {
   "cell_type": "code",
   "execution_count": 1,
   "id": "377311dc",
   "metadata": {},
   "outputs": [
    {
     "name": "stdout",
     "output_type": "stream",
     "text": [
      "1\n"
     ]
    }
   ],
   "source": [
    "print(1)"
   ]
  },
  {
   "cell_type": "code",
   "execution_count": 2,
   "id": "f44ac25f",
   "metadata": {},
   "outputs": [],
   "source": [
    "import pandas"
   ]
  },
  {
   "cell_type": "code",
   "execution_count": 3,
   "id": "1cb7901a",
   "metadata": {},
   "outputs": [
    {
     "name": "stdout",
     "output_type": "stream",
     "text": [
      "   Firstname  Lastname                          Email  Age     Salary\n",
      "0     Zondra  Gherardo    Zondra.Gherardo@yopmail.com   48   78133.48\n",
      "1     Felice      Mich        Felice.Mich@yopmail.com   65   63325.30\n",
      "2   Charissa     Ashok     Charissa.Ashok@yopmail.com   58   85752.30\n",
      "3      Misha   Glovsky      Misha.Glovsky@yopmail.com   62  145808.43\n",
      "4     Frieda  Adrienne    Frieda.Adrienne@yopmail.com   20  114615.29\n",
      "..       ...       ...                            ...  ...        ...\n",
      "95  Pierette  Garlinda  Pierette.Garlinda@yopmail.com   43   95241.85\n",
      "96      Emma     Chick         Emma.Chick@yopmail.com   18  106618.50\n",
      "97   Kristan   Isidore    Kristan.Isidore@yopmail.com   58  143835.76\n",
      "98  Cindelyn     Wesle     Cindelyn.Wesle@yopmail.com   40   46174.76\n",
      "99    Myriam   Laverne     Myriam.Laverne@yopmail.com   53  127291.99\n",
      "\n",
      "[100 rows x 5 columns]\n"
     ]
    }
   ],
   "source": [
    "df = pandas.read_csv('employees.csv')\n",
    "print(df)"
   ]
  },
  {
   "cell_type": "code",
   "execution_count": 4,
   "id": "4efaa1d0",
   "metadata": {},
   "outputs": [
    {
     "data": {
      "text/plain": [
       "Age          41.8500\n",
       "Salary    90991.6321\n",
       "dtype: float64"
      ]
     },
     "execution_count": 4,
     "metadata": {},
     "output_type": "execute_result"
    }
   ],
   "source": [
    "df.mean()"
   ]
  },
  {
   "cell_type": "code",
   "execution_count": null,
   "id": "67dbf4d3",
   "metadata": {},
   "outputs": [],
   "source": []
  },
  {
   "cell_type": "code",
   "execution_count": null,
   "id": "51991220",
   "metadata": {},
   "outputs": [],
   "source": []
  }
 ],
 "metadata": {
  "kernelspec": {
   "display_name": "Python 3",
   "language": "python",
   "name": "python3"
  },
  "language_info": {
   "codemirror_mode": {
    "name": "ipython",
    "version": 3
   },
   "file_extension": ".py",
   "mimetype": "text/x-python",
   "name": "python",
   "nbconvert_exporter": "python",
   "pygments_lexer": "ipython3",
   "version": "3.9.4"
  }
 },
 "nbformat": 4,
 "nbformat_minor": 5
}
